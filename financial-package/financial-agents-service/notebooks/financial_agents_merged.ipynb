{
 "cells": [
  {
   "cell_type": "markdown",
   "id": "2833854d",
   "metadata": {},
   "source": [
    "# Financial Agents System - Integrated Notebook\n",
    "\n",
    "This notebook combines three financial agent components into a single integrated system:\n",
    "\n",
    "1. **Knowledge Agent**: Retrieves information about financial products\n",
    "2. **Card Agent**: Executes card-related actions (activate, deactivate)\n",
    "3. **Orchestrator Agent**: Coordinates between the other agents based on user intent\n",
    "\n",
    "Each section can be run independently for testing or debugging. The notebook is structured to allow for both component-level and system-level testing."
   ]
  },
  {
   "cell_type": "markdown",
   "id": "26607d63",
   "metadata": {},
   "source": [
    "## 1. Common Setup and Imports\n",
    "\n",
    "First, we'll import all the required libraries for all three agents."
   ]
  },
  {
   "cell_type": "code",
   "execution_count": 10,
   "id": "a8bb3037",
   "metadata": {
    "lines_to_next_cell": 1
   },
   "outputs": [
    {
     "name": "stdout",
     "output_type": "stream",
     "text": [
      "Common setup complete!\n"
     ]
    }
   ],
   "source": [
    "import os\n",
    "import json\n",
    "import requests\n",
    "from typing import TypedDict, Annotated, Sequence, Literal\n",
    "import operator\n",
    "from langgraph.graph import StateGraph, END\n",
    "from openai import OpenAI\n",
    "from dotenv import load_dotenv\n",
    "\n",
    "# Load environment variables from .env file\n",
    "load_dotenv()\n",
    "\n",
    "# Get API key from environment variable\n",
    "OPENAI_API_KEY = os.getenv(\"OPENAI_API_KEY\")\n",
    "if not OPENAI_API_KEY:\n",
    "    raise ValueError(\"OPENAI_API_KEY not found in environment variables. Please check your .env file.\")\n",
    "\n",
    "# Initialize OpenAI client with API key\n",
    "client = OpenAI(api_key=OPENAI_API_KEY)\n",
    "\n",
    "# Base URL for the Card Service API (adjust as needed)\n",
    "CARD_API_BASE_URL = \"http://localhost:8080/api/cards\"\n",
    "\n",
    "print(\"Common setup complete!\")"
   ]
  },
  {
   "cell_type": "markdown",
   "id": "f96437fd",
   "metadata": {},
   "source": [
    "# 2. Knowledge Agent\n",
    "\n",
    "The Knowledge Agent retrieves information from a vector database (simulated in this notebook) and uses LLMs to generate helpful responses about financial products."
   ]
  },
  {
   "cell_type": "markdown",
   "id": "9e287310",
   "metadata": {},
   "source": [
    "## 2.1 Knowledge Agent State Definition"
   ]
  },
  {
   "cell_type": "code",
   "execution_count": null,
   "id": "b314a542",
   "metadata": {
    "lines_to_next_cell": 1
   },
   "outputs": [],
   "source": [
    "class KnowledgeAgentState(TypedDict):\n",
    "    query: str\n",
    "    search_results: list[dict]  # Results from vector DB\n",
    "    response: str\n",
    "    error: str | None\n",
    "\n",
    "print(\"KnowledgeAgentState defined!\")"
   ]
  },
  {
   "cell_type": "markdown",
   "id": "403e4a20",
   "metadata": {},
   "source": [
    "## 2.2 Knowledge Retrieval Function\n",
    "This function simulates searching a vector database for relevant information."
   ]
  },
  {
   "cell_type": "code",
   "execution_count": null,
   "id": "3df622d8",
   "metadata": {
    "lines_to_next_cell": 1
   },
   "outputs": [],
   "source": [
    "def retrieve_knowledge(state: KnowledgeAgentState) -> KnowledgeAgentState:\n",
    "    \"\"\"Retrieves relevant knowledge from the vector database based on the query.\"\"\"\n",
    "    print(f\"--- Knowledge Agent: Retrieving knowledge for query: {state['query']} ---\")\n",
    "    query = state['query']\n",
    "    search_results = []\n",
    "    error = None\n",
    "    try:\n",
    "        # Placeholder: Implement actual vector search logic\n",
    "        # response = vector_db_client.search(...)\n",
    "        print(\"Placeholder: Performing vector search in OpenSearch/Vector DB...\")\n",
    "        \n",
    "        # Simulate finding relevant product info from our synthetic data\n",
    "        if \"hsa\" in query.lower() or \"health savings\" in query.lower():\n",
    "            search_results.append({\"id\": \"HSA001\", \"text\": \"Details about Health Savings Account...\", \"score\": 0.9})\n",
    "        elif \"fsa\" in query.lower() or \"flexible spending\" in query.lower():\n",
    "            search_results.append({\"id\": \"FSA001\", \"text\": \"Details about Flexible Spending Account...\", \"score\": 0.88})\n",
    "        elif \"prepaid\" in query.lower():\n",
    "            search_results.append({\"id\": \"PREPAID001\", \"text\": \"Details about General Purpose Prepaid Card...\", \"score\": 0.85})\n",
    "        else:\n",
    "            search_results.append({\"id\": \"GENERAL\", \"text\": \"General financial product information...\", \"score\": 0.7})\n",
    "        \n",
    "        print(f\"Found {len(search_results)} potential results.\")\n",
    "\n",
    "    except Exception as e:\n",
    "        print(f\"Error during knowledge retrieval: {e}\")\n",
    "        error = f\"Failed to retrieve knowledge: {e}\"\n",
    "        search_results = []\n",
    "\n",
    "    return {**state, \"search_results\": search_results, \"error\": error}\n",
    "\n",
    "print(\"Knowledge retrieval function defined!\")"
   ]
  },
  {
   "cell_type": "markdown",
   "id": "6f8b6729",
   "metadata": {},
   "source": [
    "## 2.3 Knowledge Response Generation\n",
    "This function generates a response based on the retrieved knowledge using OpenAI."
   ]
  },
  {
   "cell_type": "code",
   "execution_count": 11,
   "id": "a4a4eb08",
   "metadata": {
    "lines_to_next_cell": 1
   },
   "outputs": [
    {
     "name": "stdout",
     "output_type": "stream",
     "text": [
      "Response generation function defined!\n"
     ]
    }
   ],
   "source": [
    "def generate_response(state: KnowledgeAgentState) -> KnowledgeAgentState:\n",
    "    \"\"\"Generates a response based on the retrieved knowledge using OpenAI.\"\"\"\n",
    "    print(\"--- Knowledge Agent: Generating response ---\")\n",
    "    if state['error']:\n",
    "        return {**state, \"response\": f\"Sorry, I encountered an error: {state['error']}\"}\n",
    "    if not state['search_results']:\n",
    "         return {**state, \"response\": \"I couldn't find specific information for your query.\"}\n",
    "\n",
    "    query = state['query']\n",
    "    context = \"\\n\".join([f\"Result {i+1}: {res.get('text', '')} (ID: {res.get('id', 'N/A')})\" for i, res in enumerate(state['search_results'])])\n",
    "\n",
    "    prompt = f\"You are a helpful financial knowledge assistant. Answer the user's query based *only* on the provided context.\\n\\nContext:\\n{context}\\n\\nUser Query: {query}\\n\\nAnswer:\"\n",
    "\n",
    "    try:\n",
    "        completion = client.chat.completions.create(\n",
    "            model=\"gpt-3.5-turbo\", # Or specify another model like gpt-4\n",
    "            messages=[\n",
    "                {\"role\": \"system\", \"content\": \"You are a helpful financial knowledge assistant.\"},\n",
    "                {\"role\": \"user\", \"content\": prompt}\n",
    "            ]\n",
    "        )\n",
    "        response = completion.choices[0].message.content\n",
    "        print(f\"Generated response: {response[:100]}...\") # Log snippet\n",
    "    except Exception as e:\n",
    "        print(f\"Error during OpenAI completion: {e}\")\n",
    "        response = f\"Sorry, I encountered an error while generating the response: {e}\"\n",
    "        state['error'] = response # Store the error\n",
    "\n",
    "    return {**state, \"response\": response}\n",
    "\n",
    "print(\"Response generation function defined!\")"
   ]
  },
  {
   "cell_type": "markdown",
   "id": "91b378b5",
   "metadata": {},
   "source": [
    "## 2.4 Knowledge Agent Graph Construction\n",
    "This section defines the LangGraph workflow for the Knowledge Agent."
   ]
  },
  {
   "cell_type": "code",
   "execution_count": 12,
   "id": "8b4df148",
   "metadata": {
    "lines_to_next_cell": 1
   },
   "outputs": [
    {
     "name": "stdout",
     "output_type": "stream",
     "text": [
      "Knowledge agent workflow built!\n"
     ]
    }
   ],
   "source": [
    "def build_knowledge_agent():\n",
    "    \"\"\"Builds and returns the knowledge agent workflow.\"\"\"\n",
    "    # Create graph\n",
    "    knowledge_workflow = StateGraph(KnowledgeAgentState)\n",
    "    \n",
    "    # Add nodes\n",
    "    knowledge_workflow.add_node(\"retrieve\", retrieve_knowledge)\n",
    "    knowledge_workflow.add_node(\"generate\", generate_response)\n",
    "    \n",
    "    # Define edges\n",
    "    knowledge_workflow.set_entry_point(\"retrieve\")\n",
    "    knowledge_workflow.add_edge(\"retrieve\", \"generate\")\n",
    "    knowledge_workflow.add_edge(\"generate\", END)\n",
    "    \n",
    "    # Compile graph\n",
    "    return knowledge_workflow.compile()\n",
    "\n",
    "# Build the agent\n",
    "knowledge_agent_app = build_knowledge_agent()\n",
    "print(\"Knowledge agent workflow built!\")"
   ]
  },
  {
   "cell_type": "markdown",
   "id": "0340331a",
   "metadata": {},
   "source": [
    "## 2.5 Knowledge Agent Testing Function\n",
    "This helper function lets us test the Knowledge Agent in isolation."
   ]
  },
  {
   "cell_type": "code",
   "execution_count": 13,
   "id": "4b698e6f",
   "metadata": {
    "lines_to_next_cell": 1
   },
   "outputs": [],
   "source": [
    "def test_knowledge_agent(query):\n",
    "    \"\"\"Test the knowledge agent with the given query.\"\"\"\n",
    "    inputs = {\n",
    "        \"query\": query,\n",
    "        \"search_results\": [],\n",
    "        \"response\": \"\",\n",
    "        \"error\": None\n",
    "    }\n",
    "    \n",
    "    print(f\"Testing Knowledge Agent with query: {query}\")\n",
    "    result = knowledge_agent_app.invoke(inputs)\n",
    "    \n",
    "    print(f\"\\n--- Final Knowledge Agent Result ---\")\n",
    "    print(f\"Query: {result['query']}\")\n",
    "    print(f\"\\nResponse: {result['response']}\")\n",
    "    if result['error']:\n",
    "        print(f\"\\nError: {result['error']}\")\n",
    "    \n",
    "    return result"
   ]
  },
  {
   "cell_type": "markdown",
   "id": "a378d3c8",
   "metadata": {},
   "source": [
    "### Test Knowledge Agent\n",
    "Uncomment to run a test query against the Knowledge Agent:"
   ]
  },
  {
   "cell_type": "code",
   "execution_count": 16,
   "id": "890eea9a",
   "metadata": {},
   "outputs": [
    {
     "name": "stdout",
     "output_type": "stream",
     "text": [
      "Testing Knowledge Agent with query: Tell me about hsa\n",
      "--- Knowledge Agent: Retrieving knowledge for query: Tell me about hsa ---\n",
      "Placeholder: Performing vector search in OpenSearch/Vector DB...\n",
      "Found 1 potential results.\n",
      "--- Knowledge Agent: Generating response ---\n",
      "Generated response: Details about Health Savings Account can be found in Result 1....\n",
      "\n",
      "--- Final Knowledge Agent Result ---\n",
      "Query: Tell me about hsa\n",
      "\n",
      "Response: Details about Health Savings Account can be found in Result 1.\n"
     ]
    }
   ],
   "source": [
    "# Test with an HSA query\n",
    "hsa_result = test_knowledge_agent(\"Tell me about hsa\")"
   ]
  },
  {
   "cell_type": "markdown",
   "id": "6abef5b3",
   "metadata": {},
   "source": [
    "## 2.6 Knowledge Agent Debug Utilities\n",
    "Additional utility functions for debugging the Knowledge Agent."
   ]
  },
  {
   "cell_type": "code",
   "execution_count": null,
   "id": "0f7c1976",
   "metadata": {
    "lines_to_next_cell": 1
   },
   "outputs": [],
   "source": [
    "def simulate_vector_search(query, detailed=False):\n",
    "    \"\"\"Simulates a vector search with more detailed mock data for testing.\"\"\"\n",
    "    print(f\"Simulating vector search for: {query}\")\n",
    "    \n",
    "    # More detailed mock data for testing\n",
    "    detailed_results = {\n",
    "        \"hsa\": {\n",
    "            \"id\": \"HSA001\",\n",
    "            \"text\": \"Health Savings Accounts (HSAs) are tax-advantaged accounts available to individuals enrolled in high-deductible health plans. Contributions are tax-deductible, grow tax-free, and withdrawals for qualified medical expenses are also tax-free. For 2023, contribution limits are $3,850 for individuals and $7,750 for families.\",\n",
    "            \"score\": 0.92\n",
    "        },\n",
    "        \"fsa\": {\n",
    "            \"id\": \"FSA001\", \n",
    "            \"text\": \"Flexible Spending Accounts (FSAs) allow employees to set aside pre-tax dollars for qualified healthcare expenses. Unlike HSAs, FSAs typically have a 'use it or lose it' policy where funds must be used within the plan year or grace period. The 2023 contribution limit is $3,050.\",\n",
    "            \"score\": 0.89\n",
    "        },\n",
    "        \"prepaid\": {\n",
    "            \"id\": \"PREPAID001\", \n",
    "            \"text\": \"General Purpose Prepaid Cards allow users to load funds in advance and use for transactions anywhere the card network is accepted. They typically have fees for activation ($5-10), monthly maintenance ($5-7), ATM withdrawals ($2-3), and reloading ($3-5). They're useful for budgeting and don't require credit checks.\",\n",
    "            \"score\": 0.88\n",
    "        }\n",
    "    }\n",
    "    \n",
    "    # Basic search logic\n",
    "    results = []\n",
    "    if \"hsa\" in query.lower() or \"health savings\" in query.lower():\n",
    "        results.append(detailed_results[\"hsa\"] if detailed else {\"id\": \"HSA001\", \"text\": \"Details about Health Savings Account...\", \"score\": 0.9})\n",
    "    elif \"fsa\" in query.lower() or \"flexible spending\" in query.lower():\n",
    "        results.append(detailed_results[\"fsa\"] if detailed else {\"id\": \"FSA001\", \"text\": \"Details about Flexible Spending Account...\", \"score\": 0.88})\n",
    "    elif \"prepaid\" in query.lower():\n",
    "        results.append(detailed_results[\"prepaid\"] if detailed else {\"id\": \"PREPAID001\", \"text\": \"Details about General Purpose Prepaid Card...\", \"score\": 0.85})\n",
    "    else:\n",
    "        results.append({\"id\": \"GENERAL\", \"text\": \"General financial product information...\", \"score\": 0.7})\n",
    "    \n",
    "    print(f\"Found {len(results)} results.\")\n",
    "    for result in results:\n",
    "        print(f\"- {result['id']}: {result['text'][:50]}... (score: {result['score']})\")\n",
    "    \n",
    "    return results"
   ]
  },
  {
   "cell_type": "code",
   "execution_count": null,
   "id": "d6fc726b",
   "metadata": {},
   "outputs": [],
   "source": [
    "# Uncomment to test the simulated vector search\n",
    "# detailed_search_results = simulate_vector_search(\"Tell me about HSA accounts\", detailed=True)"
   ]
  },
  {
   "cell_type": "markdown",
   "id": "7d722489",
   "metadata": {},
   "source": [
    "# 3. Card Agent\n",
    "\n",
    "The Card Agent handles card-related actions such as activation and deactivation, communicating with a card service API."
   ]
  },
  {
   "cell_type": "markdown",
   "id": "8aeecec6",
   "metadata": {},
   "source": [
    "## 3.1 Card Agent State Definition"
   ]
  },
  {
   "cell_type": "code",
   "execution_count": 17,
   "id": "b884c7bb",
   "metadata": {
    "lines_to_next_cell": 1
   },
   "outputs": [
    {
     "name": "stdout",
     "output_type": "stream",
     "text": [
      "CardAgentState defined!\n"
     ]
    }
   ],
   "source": [
    "class CardAgentState(TypedDict):\n",
    "    action: str            # e.g., \"activate\", \"deactivate\"\n",
    "    card_number: str       # Or other identifier\n",
    "    parameters: dict       # Any additional parameters needed for the API call\n",
    "    api_response: dict | None  # Response from the card API\n",
    "    confirmation_message: str  # User-facing message\n",
    "    error: str | None\n",
    "\n",
    "print(\"CardAgentState defined!\")"
   ]
  },
  {
   "cell_type": "markdown",
   "id": "55317011",
   "metadata": {},
   "source": [
    "## 3.2 Card API Call Function\n",
    "This function handles the HTTP requests to the card service."
   ]
  },
  {
   "cell_type": "code",
   "execution_count": 18,
   "id": "7ef3a626",
   "metadata": {
    "lines_to_next_cell": 1
   },
   "outputs": [
    {
     "name": "stdout",
     "output_type": "stream",
     "text": [
      "Card API call function defined!\n"
     ]
    }
   ],
   "source": [
    "def call_card_api(action: str, card_number: str, parameters: dict) -> dict:\n",
    "    \"\"\"Calls the Card Service API.\"\"\"\n",
    "    url = f\"{CARD_API_BASE_URL}/{action}\"\n",
    "    headers = {'Content-Type': 'application/json'}\n",
    "    payload = {\"cardNumber\": card_number, **parameters}\n",
    "\n",
    "    print(f\"--- Card Agent: Calling API: {action} for card ending {card_number[-4:]} ---\")\n",
    "    print(f\"URL: {url}\")\n",
    "    print(f\"Payload: {payload}\")\n",
    "\n",
    "    # For testing/debugging - uncomment to skip actual API call\n",
    "    # return {\"success\": True, \"message\": f\"SIMULATED {action} success\"}\n",
    "    \n",
    "    try:\n",
    "        if action == \"activate\":\n",
    "            response = requests.post(url, json=payload, headers=headers, timeout=10)\n",
    "        elif action == \"deactivate\":\n",
    "            response = requests.post(url, json=payload, headers=headers, timeout=10)\n",
    "        else:\n",
    "            return {\"success\": False, \"message\": f\"Unsupported action: {action}\"}\n",
    "\n",
    "        response.raise_for_status()\n",
    "        api_response_data = response.json()\n",
    "        print(f\"API Success: {api_response_data}\")\n",
    "        return {\"success\": True, **api_response_data}\n",
    "\n",
    "    except requests.exceptions.RequestException as e:\n",
    "        error_message = f\"API call failed: {e}\"\n",
    "        print(f\"API Error: {error_message}\")\n",
    "        try:\n",
    "            error_details = response.json()\n",
    "            error_message += f\" Details: {error_details}\"\n",
    "        except:\n",
    "            pass\n",
    "        return {\"success\": False, \"message\": error_message}\n",
    "    except Exception as e:\n",
    "        error_message = f\"An unexpected error occurred during API call: {e}\"\n",
    "        print(f\"API Error: {error_message}\")\n",
    "        return {\"success\": False, \"message\": error_message}\n",
    "\n",
    "print(\"Card API call function defined!\")"
   ]
  },
  {
   "cell_type": "markdown",
   "id": "61a98d7d",
   "metadata": {},
   "source": [
    "## 3.3 Card Action Execution\n",
    "This function processes the API results and updates the state."
   ]
  },
  {
   "cell_type": "code",
   "execution_count": 19,
   "id": "15270011",
   "metadata": {
    "lines_to_next_cell": 1
   },
   "outputs": [
    {
     "name": "stdout",
     "output_type": "stream",
     "text": [
      "Card action execution function defined!\n"
     ]
    }
   ],
   "source": [
    "def execute_card_action(state: CardAgentState) -> CardAgentState:\n",
    "    \"\"\"Executes the requested card action by calling the API.\"\"\"\n",
    "    action = state['action']\n",
    "    card_number = state['card_number']\n",
    "    parameters = state['parameters']\n",
    "\n",
    "    print(f\"Executing card action: {action}\")\n",
    "    api_result = call_card_api(action, card_number, parameters)\n",
    "\n",
    "    confirmation_message = \"\"\n",
    "    error = None\n",
    "\n",
    "    if api_result.get(\"success\"):\n",
    "        confirmation_message = api_result.get(\"message\", f\"Card {action} request processed successfully.\")\n",
    "        print(f\"Card Action Success: {confirmation_message}\")\n",
    "    else:\n",
    "        error = api_result.get(\"message\", \"An unknown error occurred during the card action.\")\n",
    "        confirmation_message = f\"Failed to {action} card. Error: {error}\"\n",
    "        print(f\"Card Action Failed: {error}\")\n",
    "\n",
    "    return {**state, \"api_response\": api_result, \"confirmation_message\": confirmation_message, \"error\": error}\n",
    "\n",
    "print(\"Card action execution function defined!\")"
   ]
  },
  {
   "cell_type": "markdown",
   "id": "d414a90e",
   "metadata": {},
   "source": [
    "## 3.4 Card Agent Graph Construction\n",
    "This section defines the LangGraph workflow for the Card Agent."
   ]
  },
  {
   "cell_type": "code",
   "execution_count": 20,
   "id": "9ebf8b86",
   "metadata": {
    "lines_to_next_cell": 1
   },
   "outputs": [
    {
     "name": "stdout",
     "output_type": "stream",
     "text": [
      "Card agent workflow built!\n"
     ]
    }
   ],
   "source": [
    "def build_card_agent():\n",
    "    \"\"\"Builds and returns the card agent workflow.\"\"\"\n",
    "    # Create graph\n",
    "    card_workflow = StateGraph(CardAgentState)\n",
    "    \n",
    "    # Add node\n",
    "    card_workflow.add_node(\"execute\", execute_card_action)\n",
    "    \n",
    "    # Define edges\n",
    "    card_workflow.set_entry_point(\"execute\")\n",
    "    card_workflow.add_edge(\"execute\", END)\n",
    "    \n",
    "    # Compile graph\n",
    "    return card_workflow.compile()\n",
    "\n",
    "# Build the agent\n",
    "card_agent_app = build_card_agent()\n",
    "print(\"Card agent workflow built!\")"
   ]
  },
  {
   "cell_type": "markdown",
   "id": "1e383910",
   "metadata": {},
   "source": [
    "## 3.5 Card Agent Testing Function\n",
    "This helper function lets us test the Card Agent in isolation."
   ]
  },
  {
   "cell_type": "code",
   "execution_count": 21,
   "id": "16d8b514",
   "metadata": {
    "lines_to_next_cell": 1
   },
   "outputs": [],
   "source": [
    "def test_card_agent(action, card_number, **parameters):\n",
    "    \"\"\"Test the card agent with the given inputs.\"\"\"\n",
    "    inputs = {\n",
    "        \"action\": action,\n",
    "        \"card_number\": card_number,\n",
    "        \"parameters\": parameters,\n",
    "        \"api_response\": None,\n",
    "        \"confirmation_message\": \"\",\n",
    "        \"error\": None\n",
    "    }\n",
    "    \n",
    "    print(f\"Testing Card Agent ({action})...\")\n",
    "    result = card_agent_app.invoke(inputs)\n",
    "    \n",
    "    print(f\"\\n--- Final Card Agent Result ({action}) ---\")\n",
    "    for key, value in result.items():\n",
    "        print(f\"{key}: {value}\")\n",
    "    \n",
    "    return result"
   ]
  },
  {
   "cell_type": "markdown",
   "id": "05b24ba5",
   "metadata": {},
   "source": [
    "### Test Card Agent\n",
    "Uncomment to run a test action with the Card Agent:"
   ]
  },
  {
   "cell_type": "code",
   "execution_count": 22,
   "id": "a61d95a4",
   "metadata": {},
   "outputs": [
    {
     "name": "stdout",
     "output_type": "stream",
     "text": [
      "Testing Card Agent (activate)...\n",
      "Executing card action: activate\n",
      "--- Card Agent: Calling API: activate for card ending 4444 ---\n",
      "URL: http://localhost:8080/api/cards/activate\n",
      "Payload: {'cardNumber': '1111222233334444', 'cvv': '123', 'expiryDate': '04/26'}\n",
      "API Success: {'success': True, 'message': 'Card activated successfully', 'cardNumber': '****4444'}\n",
      "Card Action Success: Card activated successfully\n",
      "\n",
      "--- Final Card Agent Result (activate) ---\n",
      "action: activate\n",
      "card_number: 1111222233334444\n",
      "parameters: {'cvv': '123', 'expiryDate': '04/26'}\n",
      "api_response: {'success': True, 'message': 'Card activated successfully', 'cardNumber': '****4444'}\n",
      "confirmation_message: Card activated successfully\n",
      "error: None\n"
     ]
    }
   ],
   "source": [
    "# Activate a card\n",
    "activate_result = test_card_agent(\n",
    "    \"activate\", \n",
    "    \"1111222233334444\", \n",
    "    cvv=\"123\", \n",
    "    expiryDate=\"04/26\"\n",
    ")"
   ]
  },
  {
   "cell_type": "code",
   "execution_count": null,
   "id": "054ef87f",
   "metadata": {},
   "outputs": [],
   "source": [
    "# Deactivate a card\n",
    "# deactivate_result = test_card_agent(\n",
    "#     \"deactivate\", \n",
    "#     \"1111222233334444\", \n",
    "#     reason=\"Lost card\"\n",
    "# )"
   ]
  },
  {
   "cell_type": "markdown",
   "id": "bcef0098",
   "metadata": {},
   "source": [
    "## 3.6 Card Agent Debug Utilities\n",
    "Additional utility functions for debugging the Card Agent."
   ]
  },
  {
   "cell_type": "code",
   "execution_count": null,
   "id": "cf71d978",
   "metadata": {
    "lines_to_next_cell": 1
   },
   "outputs": [],
   "source": [
    "def inspect_api_request(action: str, card_number: str, parameters: dict):\n",
    "    \"\"\"Displays the API request that would be made without actually making it.\"\"\"\n",
    "    url = f\"{CARD_API_BASE_URL}/{action}\"\n",
    "    headers = {'Content-Type': 'application/json'}\n",
    "    payload = {\"cardNumber\": card_number, **parameters}\n",
    "    \n",
    "    print(\"=== API Request Details (No request sent) ===\")\n",
    "    print(f\"URL: {url}\")\n",
    "    print(f\"Method: POST\")\n",
    "    print(f\"Headers: {headers}\")\n",
    "    print(f\"Payload: {payload}\")\n",
    "    \n",
    "    return {\"url\": url, \"method\": \"POST\", \"headers\": headers, \"payload\": payload}"
   ]
  },
  {
   "cell_type": "code",
   "execution_count": null,
   "id": "b9845ec2",
   "metadata": {},
   "outputs": [],
   "source": [
    "# Uncomment to inspect a request without sending it\n",
    "# inspect_api_request(\n",
    "#     \"activate\", \n",
    "#     \"1111222233334444\", \n",
    "#     {\"cvv\": \"123\", \"expiryDate\": \"12/25\"}\n",
    "# )"
   ]
  },
  {
   "cell_type": "markdown",
   "id": "8834ec64",
   "metadata": {},
   "source": [
    "# 4. Orchestrator Agent\n",
    "\n",
    "The Orchestrator Agent is the main entry point for users. It determines the user's intent and routes the request to the appropriate agent."
   ]
  },
  {
   "cell_type": "markdown",
   "id": "4fd80b40",
   "metadata": {},
   "source": [
    "## 4.1 Orchestrator State Definition"
   ]
  },
  {
   "cell_type": "code",
   "execution_count": 23,
   "id": "de2b8ec2",
   "metadata": {
    "lines_to_next_cell": 1
   },
   "outputs": [
    {
     "name": "stdout",
     "output_type": "stream",
     "text": [
      "OrchestratorState defined!\n"
     ]
    }
   ],
   "source": [
    "class OrchestratorState(TypedDict):\n",
    "    user_query: str\n",
    "    intent: Literal[\"knowledge\", \"card_action\", \"unknown\", \"error\"]\n",
    "    card_action_details: CardAgentState | None  # Details needed for card agent\n",
    "    knowledge_agent_response: str | None\n",
    "    card_agent_response: str | None\n",
    "    final_response: str\n",
    "    error: str | None\n",
    "\n",
    "print(\"OrchestratorState defined!\")"
   ]
  },
  {
   "cell_type": "markdown",
   "id": "00313d11",
   "metadata": {},
   "source": [
    "## 4.2 Intent Classification Function\n",
    "This function uses OpenAI to determine the user's intent."
   ]
  },
  {
   "cell_type": "code",
   "execution_count": 24,
   "id": "088469c0",
   "metadata": {
    "lines_to_next_cell": 1
   },
   "outputs": [
    {
     "name": "stdout",
     "output_type": "stream",
     "text": [
      "Intent classification function defined!\n"
     ]
    }
   ],
   "source": [
    "def classify_intent(state: OrchestratorState) -> OrchestratorState:\n",
    "    \"\"\"Classifies the user's intent using OpenAI.\"\"\"\n",
    "    print(f\"--- Orchestrator: Classifying intent for query: {state['user_query']} ---\")\n",
    "    query = state['user_query']\n",
    "    intent = \"unknown\"\n",
    "    error = None\n",
    "    card_action_details = None\n",
    "\n",
    "    prompt = f\"\"\"Classify the user's intent based on their query. Choose one: 'knowledge', 'card_action', or 'unknown'.\n",
    "    - 'knowledge': User is asking for information (e.g., 'What is an HSA?', 'Tell me about prepaid cards').\n",
    "    - 'card_action': User wants to perform an action on a card (e.g., 'Activate my card', 'Deactivate card ending in 1234').\n",
    "    - 'unknown': The intent is unclear or not related to finance/cards.\n",
    "\n",
    "    If the intent is 'card_action', also extract the action (e.g., 'activate', 'deactivate') and any card identifiers (like last 4 digits or full number if provided). Format the output as JSON: {{\"intent\": \"...\". \"action\": \"...\", \"card_identifier\": \"...\"}}\n",
    "    If the intent is 'knowledge' or 'unknown', format as JSON: {{\"intent\": \"...\"}}\n",
    "\n",
    "    User Query: \"{query}\"\n",
    "\n",
    "    JSON Output:\"\"\"\n",
    "\n",
    "    try:\n",
    "        completion = client.chat.completions.create(\n",
    "            model=\"gpt-3.5-turbo\",  # Use a model suitable for classification\n",
    "            messages=[\n",
    "                {\"role\": \"system\", \"content\": \"You are an intent classification expert for financial services.\"},\n",
    "                {\"role\": \"user\", \"content\": prompt}\n",
    "            ],\n",
    "            response_format={\"type\": \"json_object\"}  # Request JSON output if model supports\n",
    "        )\n",
    "        result_json = json.loads(completion.choices[0].message.content)\n",
    "        intent = result_json.get(\"intent\", \"unknown\")\n",
    "        print(f\"Classified intent: {intent}\")\n",
    "\n",
    "        if intent == \"card_action\":\n",
    "            action = result_json.get(\"action\")\n",
    "            card_identifier = result_json.get(\"card_identifier\")\n",
    "            if action and card_identifier:\n",
    "                # In a real system, you'd need more robust extraction and potentially clarification\n",
    "                card_action_details = {\n",
    "                    \"action\": action,\n",
    "                    \"card_number\": card_identifier,  # May need validation/lookup\n",
    "                    \"parameters\": {},  # Placeholder for additional params if needed\n",
    "                    # Initialize other CardAgentState fields as None or empty\n",
    "                    \"api_response\": None,\n",
    "                    \"confirmation_message\": \"\",\n",
    "                    \"error\": None\n",
    "                }\n",
    "                print(f\"Extracted card action details: {card_action_details}\")\n",
    "            else:\n",
    "                print(\"Warning: card_action intent detected but details missing.\")\n",
    "                intent = \"unknown\"  # Fallback if details can't be extracted\n",
    "                error = \"Could not extract necessary details for the card action.\"\n",
    "\n",
    "    except Exception as e:\n",
    "        print(f\"Error during intent classification: {e}\")\n",
    "        intent = \"error\"\n",
    "        error = f\"Failed to classify intent: {e}\"\n",
    "\n",
    "    return {**state, \"intent\": intent, \"card_action_details\": card_action_details, \"error\": error}\n",
    "\n",
    "print(\"Intent classification function defined!\")"
   ]
  },
  {
   "cell_type": "markdown",
   "id": "facb2521",
   "metadata": {},
   "source": [
    "## 4.3 Agent Routing Functions\n",
    "These functions route the user query to the appropriate agent based on intent."
   ]
  },
  {
   "cell_type": "code",
   "execution_count": 25,
   "id": "3cc29c70",
   "metadata": {
    "lines_to_next_cell": 1
   },
   "outputs": [],
   "source": [
    "def route_to_knowledge_agent(state: OrchestratorState) -> OrchestratorState:\n",
    "    \"\"\"Invokes the Knowledge Agent.\"\"\"\n",
    "    print(\"--- Orchestrator: Routing to Knowledge Agent ---\")\n",
    "    knowledge_input = {\"query\": state['user_query']}\n",
    "    knowledge_result = knowledge_agent_app.invoke(knowledge_input)\n",
    "    \n",
    "    response = knowledge_result.get(\"response\", \"Knowledge agent did not provide a response.\")\n",
    "    error = knowledge_result.get(\"error\")\n",
    "    print(f\"Knowledge Agent Result: {response[:100]}... Error: {error}\")\n",
    "    return {**state, \"knowledge_agent_response\": response, \"error\": error}"
   ]
  },
  {
   "cell_type": "code",
   "execution_count": 26,
   "id": "5b40b0c8",
   "metadata": {
    "lines_to_next_cell": 1
   },
   "outputs": [
    {
     "name": "stdout",
     "output_type": "stream",
     "text": [
      "Agent routing functions defined!\n"
     ]
    }
   ],
   "source": [
    "def route_to_card_agent(state: OrchestratorState) -> OrchestratorState:\n",
    "    \"\"\"Invokes the Card Agent.\"\"\"\n",
    "    print(\"--- Orchestrator: Routing to Card Agent ---\")\n",
    "    if not state['card_action_details']:\n",
    "        error = \"Cannot route to card agent: missing action details.\"\n",
    "        print(error)\n",
    "        return {**state, \"card_agent_response\": \"Internal error: Missing card action details.\", \"error\": error}\n",
    "\n",
    "    card_input = state['card_action_details']\n",
    "    card_result = card_agent_app.invoke(card_input)\n",
    "    \n",
    "    response = card_result.get(\"confirmation_message\", \"Card agent did not provide a response.\")\n",
    "    error = card_result.get(\"error\")\n",
    "    print(f\"Card Agent Result: {response[:100]}... Error: {error}\")\n",
    "    return {**state, \"card_agent_response\": response, \"error\": error}\n",
    "\n",
    "print(\"Agent routing functions defined!\")"
   ]
  },
  {
   "cell_type": "markdown",
   "id": "fb3f7796",
   "metadata": {},
   "source": [
    "## 4.4 Response Formatting Function\n",
    "This function formats the final response based on the agent responses."
   ]
  },
  {
   "cell_type": "code",
   "execution_count": 27,
   "id": "c3c48a03",
   "metadata": {
    "lines_to_next_cell": 1
   },
   "outputs": [
    {
     "name": "stdout",
     "output_type": "stream",
     "text": [
      "Response formatting function defined!\n"
     ]
    }
   ],
   "source": [
    "def format_final_response(state: OrchestratorState) -> OrchestratorState:\n",
    "    \"\"\"Formats the final response based on which agent was called.\"\"\"\n",
    "    print(\"--- Orchestrator: Formatting final response ---\")\n",
    "    if state['error'] and not (state['knowledge_agent_response'] or state['card_agent_response']):\n",
    "        final_response = f\"Sorry, I encountered an error processing your request: {state['error']}\"\n",
    "    elif state['intent'] == 'knowledge':\n",
    "        final_response = state['knowledge_agent_response'] or \"I couldn't retrieve the information.\"\n",
    "    elif state['intent'] == 'card_action':\n",
    "        final_response = state['card_agent_response'] or \"The card action request could not be completed.\"\n",
    "    else:\n",
    "        final_response = \"I'm not sure how to handle that request. Can you please rephrase?\"\n",
    "\n",
    "    # Append error messages if they occurred within agents but a response was still generated\n",
    "    if state['error'] and (state['knowledge_agent_response'] or state['card_agent_response']):\n",
    "       final_response += f\"\\n(Note: An error occurred during processing: {state['error']})\"\n",
    "\n",
    "    print(f\"Final Response: {final_response[:100]}...\")\n",
    "    return {**state, \"final_response\": final_response}\n",
    "\n",
    "print(\"Response formatting function defined!\")"
   ]
  },
  {
   "cell_type": "markdown",
   "id": "271199b2",
   "metadata": {},
   "source": [
    "## 4.5 Conditional Edge Logic Function\n",
    "This function determines the next step based on the classified intent."
   ]
  },
  {
   "cell_type": "code",
   "execution_count": 28,
   "id": "1fdb6c20",
   "metadata": {
    "lines_to_next_cell": 1
   },
   "outputs": [
    {
     "name": "stdout",
     "output_type": "stream",
     "text": [
      "Route decision function defined!\n"
     ]
    }
   ],
   "source": [
    "def decide_route(state: OrchestratorState) -> Literal[\"knowledge\", \"card_action\", \"end_error\", \"end_unknown\"]:\n",
    "    \"\"\"Determines the next step based on the classified intent.\"\"\"\n",
    "    print(f\"--- Orchestrator: Deciding route based on intent: {state['intent']} ---\")\n",
    "    if state['error'] and state['intent'] == 'error':\n",
    "        return \"end_error\"\n",
    "    elif state['intent'] == 'knowledge':\n",
    "        return \"knowledge\"\n",
    "    elif state['intent'] == 'card_action':\n",
    "        if state['card_action_details']:  # Check if details were extracted\n",
    "             return \"card_action\"\n",
    "        else:\n",
    "             print(\"Routing to end_unknown due to missing card details despite intent.\")\n",
    "             return \"end_unknown\"  # Treat as unknown if details missing\n",
    "    else:  # unknown\n",
    "        return \"end_unknown\"\n",
    "\n",
    "print(\"Route decision function defined!\")"
   ]
  },
  {
   "cell_type": "markdown",
   "id": "6a603f5c",
   "metadata": {},
   "source": [
    "## 4.6 Orchestrator Graph Construction\n",
    "This section defines the LangGraph workflow for the Orchestrator Agent."
   ]
  },
  {
   "cell_type": "code",
   "execution_count": 29,
   "id": "153960d0",
   "metadata": {
    "lines_to_next_cell": 1
   },
   "outputs": [
    {
     "name": "stdout",
     "output_type": "stream",
     "text": [
      "Orchestrator workflow built!\n"
     ]
    }
   ],
   "source": [
    "def build_orchestrator():\n",
    "    \"\"\"Builds and returns the orchestrator workflow.\"\"\"\n",
    "    # Create graph\n",
    "    workflow = StateGraph(OrchestratorState)\n",
    "    \n",
    "    # Add nodes\n",
    "    workflow.add_node(\"classify_intent\", classify_intent)\n",
    "    workflow.add_node(\"knowledge_agent\", route_to_knowledge_agent)\n",
    "    workflow.add_node(\"card_agent\", route_to_card_agent)\n",
    "    workflow.add_node(\"format_response\", format_final_response)\n",
    "    \n",
    "    # Define edges\n",
    "    workflow.set_entry_point(\"classify_intent\")\n",
    "    \n",
    "    # Conditional routing after classification\n",
    "    workflow.add_conditional_edges(\n",
    "        \"classify_intent\",\n",
    "        decide_route,\n",
    "        {\n",
    "            \"knowledge\": \"knowledge_agent\",\n",
    "            \"card_action\": \"card_agent\",\n",
    "            \"end_error\": \"format_response\",  # Go directly to formatting for critical errors\n",
    "            \"end_unknown\": \"format_response\"  # Go directly to formatting for unknown intent\n",
    "        }\n",
    "    )\n",
    "    \n",
    "    # Edges from agents to final formatting\n",
    "    workflow.add_edge(\"knowledge_agent\", \"format_response\")\n",
    "    workflow.add_edge(\"card_agent\", \"format_response\")\n",
    "    \n",
    "    # End after formatting\n",
    "    workflow.add_edge(\"format_response\", END)\n",
    "    \n",
    "    # Compile graph\n",
    "    return workflow.compile()\n",
    "\n",
    "# Build the orchestrator\n",
    "orchestrator_app = build_orchestrator()\n",
    "print(\"Orchestrator workflow built!\")"
   ]
  },
  {
   "cell_type": "markdown",
   "id": "f383aacd",
   "metadata": {},
   "source": [
    "## 4.7 Orchestrator Testing Function\n",
    "This helper function lets us test the complete Orchestrator Agent."
   ]
  },
  {
   "cell_type": "code",
   "execution_count": 30,
   "id": "1d911f6f",
   "metadata": {
    "lines_to_next_cell": 1
   },
   "outputs": [],
   "source": [
    "def test_orchestrator(query):\n",
    "    \"\"\"Test the orchestrator with the given query.\"\"\"\n",
    "    inputs = {\n",
    "        \"user_query\": query,\n",
    "        \"intent\": \"unknown\",\n",
    "        \"card_action_details\": None,\n",
    "        \"knowledge_agent_response\": None,\n",
    "        \"card_agent_response\": None,\n",
    "        \"final_response\": \"\",\n",
    "        \"error\": None\n",
    "    }\n",
    "    \n",
    "    print(f\"Testing Orchestrator with query: {query}\")\n",
    "    result = orchestrator_app.invoke(inputs)\n",
    "    \n",
    "    print(f\"\\n--- Final Orchestrator Result ---\")\n",
    "    print(f\"Query: {result['user_query']}\")\n",
    "    print(f\"Intent: {result['intent']}\")\n",
    "    print(f\"\\nFinal Response: {result['final_response']}\")\n",
    "    if result['error']:\n",
    "        print(f\"\\nError: {result['error']}\")\n",
    "    \n",
    "    return result"
   ]
  },
  {
   "cell_type": "markdown",
   "id": "d0596b8d",
   "metadata": {},
   "source": [
    "### Test Orchestrator\n",
    "Uncomment to run tests with the Orchestrator:"
   ]
  },
  {
   "cell_type": "code",
   "execution_count": 31,
   "id": "7aef70fb",
   "metadata": {},
   "outputs": [
    {
     "name": "stdout",
     "output_type": "stream",
     "text": [
      "Testing Orchestrator with query: What are the benefits of an HSA account?\n",
      "--- Orchestrator: Classifying intent for query: What are the benefits of an HSA account? ---\n",
      "Classified intent: knowledge\n",
      "--- Orchestrator: Deciding route based on intent: knowledge ---\n",
      "--- Orchestrator: Routing to Knowledge Agent ---\n",
      "--- Knowledge Agent: Retrieving knowledge for query: What are the benefits of an HSA account? ---\n",
      "Placeholder: Performing vector search in OpenSearch/Vector DB...\n",
      "Found 1 potential results.\n",
      "--- Knowledge Agent: Generating response ---\n",
      "Generated response: Health Savings Accounts (HSAs) offer tax advantages such as contributions being made with pre-tax do...\n",
      "Knowledge Agent Result: Health Savings Accounts (HSAs) offer tax advantages such as contributions being made with pre-tax do... Error: None\n",
      "--- Orchestrator: Formatting final response ---\n",
      "Final Response: Health Savings Accounts (HSAs) offer tax advantages such as contributions being made with pre-tax do...\n",
      "\n",
      "--- Final Orchestrator Result ---\n",
      "Query: What are the benefits of an HSA account?\n",
      "Intent: knowledge\n",
      "\n",
      "Final Response: Health Savings Accounts (HSAs) offer tax advantages such as contributions being made with pre-tax dollars, tax-free growth on investments in the account, and tax-free withdrawals for qualified medical expenses. Additionally, funds in an HSA can roll over from year to year, and the account is portable if you change jobs or insurance plans.\n"
     ]
    }
   ],
   "source": [
    "# Test with a knowledge query\n",
    "knowledge_result = test_orchestrator(\"What are the benefits of an HSA account?\")"
   ]
  },
  {
   "cell_type": "code",
   "execution_count": 32,
   "id": "8ea6f191",
   "metadata": {},
   "outputs": [
    {
     "name": "stdout",
     "output_type": "stream",
     "text": [
      "Testing Orchestrator with query: Please activate my card ending in 3456\n",
      "--- Orchestrator: Classifying intent for query: Please activate my card ending in 3456 ---\n",
      "Classified intent: card_action\n",
      "Extracted card action details: {'action': 'activate', 'card_number': '3456', 'parameters': {}, 'api_response': None, 'confirmation_message': '', 'error': None}\n",
      "--- Orchestrator: Deciding route based on intent: card_action ---\n",
      "--- Orchestrator: Routing to Card Agent ---\n",
      "Executing card action: activate\n",
      "--- Card Agent: Calling API: activate for card ending 3456 ---\n",
      "URL: http://localhost:8080/api/cards/activate\n",
      "Payload: {'cardNumber': '3456'}\n",
      "API Error: API call failed: 400 Client Error:  for url: http://localhost:8080/api/cards/activate\n",
      "Card Action Failed: API call failed: 400 Client Error:  for url: http://localhost:8080/api/cards/activate Details: {'success': False, 'message': 'Missing required fields for activation (cardNumber, cvv, expiryDate).', 'cardNumber': '****'}\n",
      "Card Agent Result: Failed to activate card. Error: API call failed: 400 Client Error:  for url: http://localhost:8080/a... Error: API call failed: 400 Client Error:  for url: http://localhost:8080/api/cards/activate Details: {'success': False, 'message': 'Missing required fields for activation (cardNumber, cvv, expiryDate).', 'cardNumber': '****'}\n",
      "--- Orchestrator: Formatting final response ---\n",
      "Final Response: Failed to activate card. Error: API call failed: 400 Client Error:  for url: http://localhost:8080/a...\n",
      "\n",
      "--- Final Orchestrator Result ---\n",
      "Query: Please activate my card ending in 3456\n",
      "Intent: card_action\n",
      "\n",
      "Final Response: Failed to activate card. Error: API call failed: 400 Client Error:  for url: http://localhost:8080/api/cards/activate Details: {'success': False, 'message': 'Missing required fields for activation (cardNumber, cvv, expiryDate).', 'cardNumber': '****'}\n",
      "(Note: An error occurred during processing: API call failed: 400 Client Error:  for url: http://localhost:8080/api/cards/activate Details: {'success': False, 'message': 'Missing required fields for activation (cardNumber, cvv, expiryDate).', 'cardNumber': '****'})\n",
      "\n",
      "Error: API call failed: 400 Client Error:  for url: http://localhost:8080/api/cards/activate Details: {'success': False, 'message': 'Missing required fields for activation (cardNumber, cvv, expiryDate).', 'cardNumber': '****'}\n"
     ]
    }
   ],
   "source": [
    "# Test with a card action query\n",
    "card_result = test_orchestrator(\"Please activate my card ending in 3456\")"
   ]
  },
  {
   "cell_type": "code",
   "execution_count": 33,
   "id": "e8baf1d3",
   "metadata": {},
   "outputs": [
    {
     "name": "stdout",
     "output_type": "stream",
     "text": [
      "Testing Orchestrator with query: What is the weather forecast for tomorrow?\n",
      "--- Orchestrator: Classifying intent for query: What is the weather forecast for tomorrow? ---\n",
      "Classified intent: unknown\n",
      "--- Orchestrator: Deciding route based on intent: unknown ---\n",
      "--- Orchestrator: Formatting final response ---\n",
      "Final Response: I'm not sure how to handle that request. Can you please rephrase?...\n",
      "\n",
      "--- Final Orchestrator Result ---\n",
      "Query: What is the weather forecast for tomorrow?\n",
      "Intent: unknown\n",
      "\n",
      "Final Response: I'm not sure how to handle that request. Can you please rephrase?\n"
     ]
    }
   ],
   "source": [
    "# Test with an unknown query\n",
    "unknown_result = test_orchestrator(\"What is the weather forecast for tomorrow?\")"
   ]
  },
  {
   "cell_type": "markdown",
   "id": "6cc429d5",
   "metadata": {},
   "source": [
    "## 4.8 Step-By-Step Debugging Function\n",
    "This function manually walks through the orchestrator steps for detailed debugging."
   ]
  },
  {
   "cell_type": "code",
   "execution_count": null,
   "id": "844bc857",
   "metadata": {
    "lines_to_next_cell": 1
   },
   "outputs": [],
   "source": [
    "def simulate_orchestrator_step_by_step(query):\n",
    "    \"\"\"Manually walks through the orchestrator steps for detailed debugging.\"\"\"\n",
    "    print(f\"=== STEP-BY-STEP ORCHESTRATOR SIMULATION ===\")\n",
    "    print(f\"Query: '{query}'\")\n",
    "    \n",
    "    # Initialize state\n",
    "    state = {\n",
    "        \"user_query\": query,\n",
    "        \"intent\": \"unknown\",\n",
    "        \"card_action_details\": None,\n",
    "        \"knowledge_agent_response\": None,\n",
    "        \"card_agent_response\": None,\n",
    "        \"final_response\": \"\",\n",
    "        \"error\": None\n",
    "    }\n",
    "    \n",
    "    # Step 1: Classify intent\n",
    "    print(\"\\n--- STEP 1: Intent Classification ---\")\n",
    "    state = classify_intent(state)\n",
    "    print(f\"Intent: {state['intent']}\")\n",
    "    if state['card_action_details']:\n",
    "        print(f\"Card action: {state['card_action_details']['action']}\")\n",
    "        print(f\"Card number: {state['card_action_details']['card_number']}\")\n",
    "    \n",
    "    # Step 2: Route based on intent\n",
    "    print(\"\\n--- STEP 2: Routing ---\")\n",
    "    route = decide_route(state)\n",
    "    print(f\"Route decision: {route}\")\n",
    "    \n",
    "    # Step 3: Process with appropriate agent\n",
    "    print(\"\\n--- STEP 3: Agent Processing ---\")\n",
    "    if route == \"knowledge\":\n",
    "        state = route_to_knowledge_agent(state)\n",
    "        print(f\"Knowledge response: {state['knowledge_agent_response']}\")\n",
    "    elif route == \"card_action\":\n",
    "        state = route_to_card_agent(state)\n",
    "        print(f\"Card response: {state['card_agent_response']}\")\n",
    "    else:\n",
    "        print(f\"Skipping agent processing, going to final response formatting\")\n",
    "    \n",
    "    # Step 4: Format final response\n",
    "    print(\"\\n--- STEP 4: Final Response Formatting ---\")\n",
    "    state = format_final_response(state)\n",
    "    print(f\"Final response: {state['final_response']}\")\n",
    "    \n",
    "    print(\"\\n=== SIMULATION COMPLETE ===\")\n",
    "    return state"
   ]
  },
  {
   "cell_type": "code",
   "execution_count": null,
   "id": "580a82a2",
   "metadata": {},
   "outputs": [],
   "source": [
    "# Uncomment to run a step-by-step simulation\n",
    "# detailed_result = simulate_orchestrator_step_by_step(\"What is an HSA account?\")"
   ]
  },
  {
   "cell_type": "markdown",
   "id": "e55dc8ac",
   "metadata": {},
   "source": [
    "# 5. Integrated System Testing\n",
    "\n",
    "This section provides examples of testing the entire system with different types of user queries."
   ]
  },
  {
   "cell_type": "markdown",
   "id": "0cfea5ac",
   "metadata": {},
   "source": [
    "## 5.1 Run the Complete System"
   ]
  },
  {
   "cell_type": "code",
   "execution_count": null,
   "id": "1dd16ceb",
   "metadata": {},
   "outputs": [],
   "source": [
    "def process_user_query(query):\n",
    "    \"\"\"Process a user query through the entire system and return a human-friendly response.\"\"\"\n",
    "    print(f\"Processing user query: '{query}'\")\n",
    "    \n",
    "    # Use the orchestrator to process the query\n",
    "    result = test_orchestrator(query)\n",
    "    \n",
    "    # Return the final response\n",
    "    return result['final_response']"
   ]
  },
  {
   "cell_type": "markdown",
   "id": "9d3cb5ae",
   "metadata": {},
   "source": [
    "## 5.2 Example Queries\n",
    "Uncomment any of these examples to see the system in action:"
   ]
  },
  {
   "cell_type": "code",
   "execution_count": null,
   "id": "d09a26c5",
   "metadata": {},
   "outputs": [],
   "source": [
    "# Knowledge query examples\n",
    "# process_user_query(\"What is a Health Savings Account?\")\n",
    "# process_user_query(\"Tell me about the benefits of FSA accounts\")\n",
    "# process_user_query(\"How do prepaid cards work?\")"
   ]
  },
  {
   "cell_type": "code",
   "execution_count": null,
   "id": "a0cd1d5e",
   "metadata": {},
   "outputs": [],
   "source": [
    "# Card action query examples\n",
    "# process_user_query(\"Please activate my card 1234-5678-9012-3456\")\n",
    "# process_user_query(\"I need to deactivate my card ending in 3456 because I lost it\")"
   ]
  },
  {
   "cell_type": "code",
   "execution_count": null,
   "id": "f4c48ba1",
   "metadata": {},
   "outputs": [],
   "source": [
    "# Ambiguous or unknown queries\n",
    "# process_user_query(\"Can you help me with something?\")\n",
    "# process_user_query(\"What's the weather like today?\") "
   ]
  }
 ],
 "metadata": {
  "jupytext": {
   "cell_metadata_filter": "-all",
   "formats": "ipynb,py:percent",
   "main_language": "python"
  },
  "language_info": {
   "name": "python"
  }
 },
 "nbformat": 4,
 "nbformat_minor": 5
}
